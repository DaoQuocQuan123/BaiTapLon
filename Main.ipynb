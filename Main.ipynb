{
 "cells": [
  {
   "cell_type": "code",
   "execution_count": 1,
   "metadata": {},
   "outputs": [],
   "source": [
    "import pickle\n",
    "import numpy as np\n",
    "from pyvi import ViTokenizer"
   ]
  },
  {
   "cell_type": "markdown",
   "metadata": {},
   "source": []
  },
  {
   "cell_type": "markdown",
   "metadata": {},
   "source": [
    "### đọc dữ liệu "
   ]
  },
  {
   "cell_type": "code",
   "execution_count": 2,
   "metadata": {},
   "outputs": [],
   "source": [
    "#Load\n",
    "with open ('neg.pkl', 'rb') as fp:\n",
    "    contents = pickle.load(fp)"
   ]
  },
  {
   "cell_type": "code",
   "execution_count": 3,
   "metadata": {},
   "outputs": [],
   "source": [
    "#Pre-processing\n",
    "contents_parsed = []\n",
    "for content in contents[0:10]:\n",
    "    contents_parsed.append(content.lower().strip())"
   ]
  },
  {
   "cell_type": "markdown",
   "metadata": {},
   "source": [
    "### in văn bản ra màn hình"
   ]
  },
  {
   "cell_type": "code",
   "execution_count": 4,
   "metadata": {},
   "outputs": [
    {
     "name": "stdout",
     "output_type": "stream",
     "text": [
      " Nguyễn Văn Sơn, 2 năm hơn 10 sáng kiến Nguyễn Văn Sơn và máy cuốn bông được cải tiến từ máy rẽ gót Ở Công ty May Trường Lợi, KCN Bình Chiểu - TPHCM các đồng nghiệp thường gọi Nguyễn Văn Sơn là “cây sáng kiến”. Trong thời gian làm việc trên 2 năm, anh đã có hơn 10 sáng kiến cải tiến kỹ thuật giúp tăng năng suất lao động và cải thiện môi trường làm việc của công nhân (CN).  Ông Trần Đăng Thanh, Chủ tịch Công đoàn Công ty Trường Lợi, nói: “Chúng tôi tự hào và tin tưởng vào sự trưởng thành của đội ngũ CN trẻ, họ đã phấn đấu và nỗ lực hết mình trong công việc. Nguyễn Văn Sơn, đội trưởng đội bảo trì máy, là một trong số những CN đó”.   10 năm theo nghề thợ máy   Chúng tôi gặp Sơn lúc anh vừa sửa chữa xong một máy may bị hỏng, Sơn trông già dặn hơn so với cái tuổi 29 của anh, khuôn mặt đen sạm, chân tay dính đầy dầu mỡ.   Năm 1995, sau khi thực hiện xong nghĩa vụ quân sự, Sơn rời vùng quê Hải Hậu, Nam Định để vào miền Nam tìm việc làm. Sau 6 tháng học nghề may ở Trung tâm Dạy nghề Thủ Đức, anh xin vào làm tại một công ty ở Bình Dương với công việc sửa chữa máy may. Cuối năm 2002, Sơn rời Bình Dương lên TPHCM và xin vào làm thợ bảo trì máy tại Công ty Trường Lợi. Ngay từ khi mới vào công ty, với sự năng nổ, nhiệt tình trong công việc, Sơn được anh em tín nhiệm bầu làm tổ trưởng tổ bảo trì máy và làm tại công ty từ đó đến nay. Trong 10 năm gắn bó với nghề thợ máy, dù làm ở những môi trường khác nhau, gặp không ít những trở ngại trong công việc nhưng Sơn luôn được các đồng nghiệp đánh giá cao về tinh thần trách nhiệm. Sơn nói: “Nhiều lúc thấy các anh chị CN làm việc ở một số khâu phải thực hiện thủ công vừa mệt nhọc lại không hiệu quả nên mình phải tìm tòi, suy nghĩ để cải tiến một số công đoạn nhằm phục vụ sản xuất và giúp cải thiện môi trường làm việc”.   “Cây sáng kiến” của công ty   Cuối năm 2004, Công ty Trường Lợi nhận được một số đơn đặt hàng giày nữ trong đó yêu cầu phải gắn bông trang trí lên mặt giày. Các đơn đặt hàng này đứng trước nguy cơ bị chậm tiến độ vì ở khâu gắn bông trang trí CN làm thủ công nên trung bình mỗi CN chỉ làm được 5-6 bông/giờ, tiến độ công việc chậm, chất lượng bông lại không bảo đảm. Ngay vào thời điểm khó khăn này, Nguyễn Văn Sơn có sáng kiến tận dụng những máy rẽ gót để cải tiến thành máy cuốn bông, anh đề xuất ý kiến lên giám đốc và được chấp nhận. Khi đưa máy cuốn bông vào sử dụng, hiệu quả thấy rõ, mỗi máy cuốn bông với 2 CN điều khiển đã cho năng suất 220 bông/giờ. Nhờ thế công ty bảo đảm tiến độ giao hàng. Từ khi Sơn vào làm tại công ty, anh đã có trên 10 sáng kiến giúp tăng năng suất lao động. Một trong những sáng kiến của Sơn được đánh giá cao là việc chế tạo mặt băng cản máy dập đế giày. Chị Hoàng Thị Sao Mai, CN phân xưởng may, cho biết trước đây khi máy chưa có mặt băng cản, các CN thường bị dập, tróc tay do sơ ý để tay cuốn vào máy. Từ khi máy có mặt băng cản thì hoàn toàn không có tai nạn lao động xảy ra, CN yên tâm làm việc.   Theo ông Trần Đăng Thanh, những sáng kiến của CN Nguyễn Văn Sơn khó có thể quy ra giá trị vật chất nhưng để động viên tinh thần làm việc, hằng năm công ty đều có 2 lần (1 triệu đồng/lần) khen thưởng cho các sáng kiến của anh.   Luôn phấn đấu, học hỏi   Sơn nói càng lăn lộn với nghề, anh càng cảm thấy bản thân còn nhiều khiếm khuyết cần phải phấn đấu. Trong bối cảnh ngành dệt may phải cạnh tranh hết sức khốc liệt để tồn tại thì vấn đề tăng năng suất lao động, nâng cao tay nghề nhưng vẫn bảo đảm sức khỏe cho CN là điều Sơn luôn trăn trở. Anh luôn tìm tòi, nghiên cứu sách vở để tìm ra những phương pháp sử dụng máy có hiệu quả nhất. Là đội trưởng đội bảo trì máy với 6 người nhưng phải bảo trì, sửa chữa hơn 15 loại máy may trong số 800 máy ở phân xưởng may nên Sơn cùng anh em trong đội phải chạy đôn chạy đáo mới làm hết việc. Anh luôn tập luyện để may thành thạo các loại máy trong công ty, khi đưa ra một loại máy cải tiến thì chính anh là người may mẫu đầu tiên và hướng dẫn cho các CN khác cho đến khi thành thạo. Nhìn lại quá trình phấn đấu của bản thân, Sơn cho rằng với một người thợ máy như anh để có được tay nghề vững vàng, ngoài sự hỗ trợ của công ty và các đồng nghiệp, trước hết phải có lòng yêu nghề và sự nỗ lực phấn đấu của chính bản thân.     \n"
     ]
    }
   ],
   "source": [
    "print(contents[1])"
   ]
  },
  {
   "cell_type": "markdown",
   "metadata": {},
   "source": [
    "### chuyển chữ hoa về chữ thường"
   ]
  },
  {
   "cell_type": "code",
   "execution_count": 5,
   "metadata": {},
   "outputs": [
    {
     "name": "stdout",
     "output_type": "stream",
     "text": [
      "nguyễn văn sơn, 2 năm hơn 10 sáng kiến nguyễn văn sơn và máy cuốn bông được cải tiến từ máy rẽ gót ở công ty may trường lợi, kcn bình chiểu - tphcm các đồng nghiệp thường gọi nguyễn văn sơn là “cây sáng kiến”. trong thời gian làm việc trên 2 năm, anh đã có hơn 10 sáng kiến cải tiến kỹ thuật giúp tăng năng suất lao động và cải thiện môi trường làm việc của công nhân (cn).  ông trần đăng thanh, chủ tịch công đoàn công ty trường lợi, nói: “chúng tôi tự hào và tin tưởng vào sự trưởng thành của đội ngũ cn trẻ, họ đã phấn đấu và nỗ lực hết mình trong công việc. nguyễn văn sơn, đội trưởng đội bảo trì máy, là một trong số những cn đó”.   10 năm theo nghề thợ máy   chúng tôi gặp sơn lúc anh vừa sửa chữa xong một máy may bị hỏng, sơn trông già dặn hơn so với cái tuổi 29 của anh, khuôn mặt đen sạm, chân tay dính đầy dầu mỡ.   năm 1995, sau khi thực hiện xong nghĩa vụ quân sự, sơn rời vùng quê hải hậu, nam định để vào miền nam tìm việc làm. sau 6 tháng học nghề may ở trung tâm dạy nghề thủ đức, anh xin vào làm tại một công ty ở bình dương với công việc sửa chữa máy may. cuối năm 2002, sơn rời bình dương lên tphcm và xin vào làm thợ bảo trì máy tại công ty trường lợi. ngay từ khi mới vào công ty, với sự năng nổ, nhiệt tình trong công việc, sơn được anh em tín nhiệm bầu làm tổ trưởng tổ bảo trì máy và làm tại công ty từ đó đến nay. trong 10 năm gắn bó với nghề thợ máy, dù làm ở những môi trường khác nhau, gặp không ít những trở ngại trong công việc nhưng sơn luôn được các đồng nghiệp đánh giá cao về tinh thần trách nhiệm. sơn nói: “nhiều lúc thấy các anh chị cn làm việc ở một số khâu phải thực hiện thủ công vừa mệt nhọc lại không hiệu quả nên mình phải tìm tòi, suy nghĩ để cải tiến một số công đoạn nhằm phục vụ sản xuất và giúp cải thiện môi trường làm việc”.   “cây sáng kiến” của công ty   cuối năm 2004, công ty trường lợi nhận được một số đơn đặt hàng giày nữ trong đó yêu cầu phải gắn bông trang trí lên mặt giày. các đơn đặt hàng này đứng trước nguy cơ bị chậm tiến độ vì ở khâu gắn bông trang trí cn làm thủ công nên trung bình mỗi cn chỉ làm được 5-6 bông/giờ, tiến độ công việc chậm, chất lượng bông lại không bảo đảm. ngay vào thời điểm khó khăn này, nguyễn văn sơn có sáng kiến tận dụng những máy rẽ gót để cải tiến thành máy cuốn bông, anh đề xuất ý kiến lên giám đốc và được chấp nhận. khi đưa máy cuốn bông vào sử dụng, hiệu quả thấy rõ, mỗi máy cuốn bông với 2 cn điều khiển đã cho năng suất 220 bông/giờ. nhờ thế công ty bảo đảm tiến độ giao hàng. từ khi sơn vào làm tại công ty, anh đã có trên 10 sáng kiến giúp tăng năng suất lao động. một trong những sáng kiến của sơn được đánh giá cao là việc chế tạo mặt băng cản máy dập đế giày. chị hoàng thị sao mai, cn phân xưởng may, cho biết trước đây khi máy chưa có mặt băng cản, các cn thường bị dập, tróc tay do sơ ý để tay cuốn vào máy. từ khi máy có mặt băng cản thì hoàn toàn không có tai nạn lao động xảy ra, cn yên tâm làm việc.   theo ông trần đăng thanh, những sáng kiến của cn nguyễn văn sơn khó có thể quy ra giá trị vật chất nhưng để động viên tinh thần làm việc, hằng năm công ty đều có 2 lần (1 triệu đồng/lần) khen thưởng cho các sáng kiến của anh.   luôn phấn đấu, học hỏi   sơn nói càng lăn lộn với nghề, anh càng cảm thấy bản thân còn nhiều khiếm khuyết cần phải phấn đấu. trong bối cảnh ngành dệt may phải cạnh tranh hết sức khốc liệt để tồn tại thì vấn đề tăng năng suất lao động, nâng cao tay nghề nhưng vẫn bảo đảm sức khỏe cho cn là điều sơn luôn trăn trở. anh luôn tìm tòi, nghiên cứu sách vở để tìm ra những phương pháp sử dụng máy có hiệu quả nhất. là đội trưởng đội bảo trì máy với 6 người nhưng phải bảo trì, sửa chữa hơn 15 loại máy may trong số 800 máy ở phân xưởng may nên sơn cùng anh em trong đội phải chạy đôn chạy đáo mới làm hết việc. anh luôn tập luyện để may thành thạo các loại máy trong công ty, khi đưa ra một loại máy cải tiến thì chính anh là người may mẫu đầu tiên và hướng dẫn cho các cn khác cho đến khi thành thạo. nhìn lại quá trình phấn đấu của bản thân, sơn cho rằng với một người thợ máy như anh để có được tay nghề vững vàng, ngoài sự hỗ trợ của công ty và các đồng nghiệp, trước hết phải có lòng yêu nghề và sự nỗ lực phấn đấu của chính bản thân.\n"
     ]
    }
   ],
   "source": [
    "print(contents_parsed[1])"
   ]
  },
  {
   "cell_type": "markdown",
   "metadata": {},
   "source": [
    "### tách bài lớn thành câu riêng"
   ]
  },
  {
   "cell_type": "code",
   "execution_count": 6,
   "metadata": {},
   "outputs": [
    {
     "name": "stderr",
     "output_type": "stream",
     "text": [
      "d:\\New folder\\lib\\site-packages\\sklearn\\feature_extraction\\image.py:167: DeprecationWarning: `np.int` is a deprecated alias for the builtin `int`. To silence this warning, use `int` by itself. Doing this will not modify any behavior and is safe. When replacing `np.int`, you may wish to use e.g. `np.int64` or `np.int32` to specify the precision. If you wish to review your current use, check the release note link for additional information.\n",
      "Deprecated in NumPy 1.20; for more details and guidance: https://numpy.org/devdocs/release/1.20.0-notes.html#deprecations\n",
      "  dtype=np.int):\n",
      "d:\\New folder\\lib\\site-packages\\sklearn\\linear_model\\least_angle.py:35: DeprecationWarning: `np.float` is a deprecated alias for the builtin `float`. To silence this warning, use `float` by itself. Doing this will not modify any behavior and is safe. If you specifically wanted the numpy scalar type, use `np.float64` here.\n",
      "Deprecated in NumPy 1.20; for more details and guidance: https://numpy.org/devdocs/release/1.20.0-notes.html#deprecations\n",
      "  eps=np.finfo(np.float).eps,\n",
      "d:\\New folder\\lib\\site-packages\\sklearn\\linear_model\\least_angle.py:597: DeprecationWarning: `np.float` is a deprecated alias for the builtin `float`. To silence this warning, use `float` by itself. Doing this will not modify any behavior and is safe. If you specifically wanted the numpy scalar type, use `np.float64` here.\n",
      "Deprecated in NumPy 1.20; for more details and guidance: https://numpy.org/devdocs/release/1.20.0-notes.html#deprecations\n",
      "  eps=np.finfo(np.float).eps, copy_X=True, fit_path=True,\n",
      "d:\\New folder\\lib\\site-packages\\sklearn\\linear_model\\least_angle.py:836: DeprecationWarning: `np.float` is a deprecated alias for the builtin `float`. To silence this warning, use `float` by itself. Doing this will not modify any behavior and is safe. If you specifically wanted the numpy scalar type, use `np.float64` here.\n",
      "Deprecated in NumPy 1.20; for more details and guidance: https://numpy.org/devdocs/release/1.20.0-notes.html#deprecations\n",
      "  eps=np.finfo(np.float).eps, copy_X=True, fit_path=True,\n",
      "d:\\New folder\\lib\\site-packages\\sklearn\\linear_model\\least_angle.py:862: DeprecationWarning: `np.float` is a deprecated alias for the builtin `float`. To silence this warning, use `float` by itself. Doing this will not modify any behavior and is safe. If you specifically wanted the numpy scalar type, use `np.float64` here.\n",
      "Deprecated in NumPy 1.20; for more details and guidance: https://numpy.org/devdocs/release/1.20.0-notes.html#deprecations\n",
      "  eps=np.finfo(np.float).eps, positive=False):\n",
      "d:\\New folder\\lib\\site-packages\\sklearn\\linear_model\\least_angle.py:1097: DeprecationWarning: `np.float` is a deprecated alias for the builtin `float`. To silence this warning, use `float` by itself. Doing this will not modify any behavior and is safe. If you specifically wanted the numpy scalar type, use `np.float64` here.\n",
      "Deprecated in NumPy 1.20; for more details and guidance: https://numpy.org/devdocs/release/1.20.0-notes.html#deprecations\n",
      "  max_n_alphas=1000, n_jobs=None, eps=np.finfo(np.float).eps,\n",
      "d:\\New folder\\lib\\site-packages\\sklearn\\linear_model\\least_angle.py:1344: DeprecationWarning: `np.float` is a deprecated alias for the builtin `float`. To silence this warning, use `float` by itself. Doing this will not modify any behavior and is safe. If you specifically wanted the numpy scalar type, use `np.float64` here.\n",
      "Deprecated in NumPy 1.20; for more details and guidance: https://numpy.org/devdocs/release/1.20.0-notes.html#deprecations\n",
      "  max_n_alphas=1000, n_jobs=None, eps=np.finfo(np.float).eps,\n",
      "d:\\New folder\\lib\\site-packages\\sklearn\\linear_model\\least_angle.py:1480: DeprecationWarning: `np.float` is a deprecated alias for the builtin `float`. To silence this warning, use `float` by itself. Doing this will not modify any behavior and is safe. If you specifically wanted the numpy scalar type, use `np.float64` here.\n",
      "Deprecated in NumPy 1.20; for more details and guidance: https://numpy.org/devdocs/release/1.20.0-notes.html#deprecations\n",
      "  eps=np.finfo(np.float).eps, copy_X=True, positive=False):\n",
      "d:\\New folder\\lib\\site-packages\\sklearn\\linear_model\\randomized_l1.py:152: DeprecationWarning: `np.float` is a deprecated alias for the builtin `float`. To silence this warning, use `float` by itself. Doing this will not modify any behavior and is safe. If you specifically wanted the numpy scalar type, use `np.float64` here.\n",
      "Deprecated in NumPy 1.20; for more details and guidance: https://numpy.org/devdocs/release/1.20.0-notes.html#deprecations\n",
      "  precompute=False, eps=np.finfo(np.float).eps,\n",
      "d:\\New folder\\lib\\site-packages\\sklearn\\linear_model\\randomized_l1.py:320: DeprecationWarning: `np.float` is a deprecated alias for the builtin `float`. To silence this warning, use `float` by itself. Doing this will not modify any behavior and is safe. If you specifically wanted the numpy scalar type, use `np.float64` here.\n",
      "Deprecated in NumPy 1.20; for more details and guidance: https://numpy.org/devdocs/release/1.20.0-notes.html#deprecations\n",
      "  eps=np.finfo(np.float).eps, random_state=None,\n",
      "d:\\New folder\\lib\\site-packages\\sklearn\\linear_model\\randomized_l1.py:580: DeprecationWarning: `np.float` is a deprecated alias for the builtin `float`. To silence this warning, use `float` by itself. Doing this will not modify any behavior and is safe. If you specifically wanted the numpy scalar type, use `np.float64` here.\n",
      "Deprecated in NumPy 1.20; for more details and guidance: https://numpy.org/devdocs/release/1.20.0-notes.html#deprecations\n",
      "  eps=4 * np.finfo(np.float).eps, n_jobs=None,\n"
     ]
    },
    {
     "name": "stdout",
     "output_type": "stream",
     "text": [
      "['nguyễn văn sơn, 2 năm hơn 10 sáng kiến nguyễn văn sơn và máy cuốn bông được cải tiến từ máy rẽ gót ở công ty may trường lợi, kcn bình chiểu - tphcm các đồng nghiệp thường gọi nguyễn văn sơn là “cây sáng kiến”.', 'trong thời gian làm việc trên 2 năm, anh đã có hơn 10 sáng kiến cải tiến kỹ thuật giúp tăng năng suất lao động và cải thiện môi trường làm việc của công nhân (cn).', 'ông trần đăng thanh, chủ tịch công đoàn công ty trường lợi, nói: “chúng tôi tự hào và tin tưởng vào sự trưởng thành của đội ngũ cn trẻ, họ đã phấn đấu và nỗ lực hết mình trong công việc.', 'nguyễn văn sơn, đội trưởng đội bảo trì máy, là một trong số những cn đó”.', '10 năm theo nghề thợ máy   chúng tôi gặp sơn lúc anh vừa sửa chữa xong một máy may bị hỏng, sơn trông già dặn hơn so với cái tuổi 29 của anh, khuôn mặt đen sạm, chân tay dính đầy dầu mỡ.', 'năm 1995, sau khi thực hiện xong nghĩa vụ quân sự, sơn rời vùng quê hải hậu, nam định để vào miền nam tìm việc làm.', 'sau 6 tháng học nghề may ở trung tâm dạy nghề thủ đức, anh xin vào làm tại một công ty ở bình dương với công việc sửa chữa máy may.', 'cuối năm 2002, sơn rời bình dương lên tphcm và xin vào làm thợ bảo trì máy tại công ty trường lợi.', 'ngay từ khi mới vào công ty, với sự năng nổ, nhiệt tình trong công việc, sơn được anh em tín nhiệm bầu làm tổ trưởng tổ bảo trì máy và làm tại công ty từ đó đến nay.', 'trong 10 năm gắn bó với nghề thợ máy, dù làm ở những môi trường khác nhau, gặp không ít những trở ngại trong công việc nhưng sơn luôn được các đồng nghiệp đánh giá cao về tinh thần trách nhiệm.', 'sơn nói: “nhiều lúc thấy các anh chị cn làm việc ở một số khâu phải thực hiện thủ công vừa mệt nhọc lại không hiệu quả nên mình phải tìm tòi, suy nghĩ để cải tiến một số công đoạn nhằm phục vụ sản xuất và giúp cải thiện môi trường làm việc”.', '“cây sáng kiến” của công ty   cuối năm 2004, công ty trường lợi nhận được một số đơn đặt hàng giày nữ trong đó yêu cầu phải gắn bông trang trí lên mặt giày.', 'các đơn đặt hàng này đứng trước nguy cơ bị chậm tiến độ vì ở khâu gắn bông trang trí cn làm thủ công nên trung bình mỗi cn chỉ làm được 5-6 bông/giờ, tiến độ công việc chậm, chất lượng bông lại không bảo đảm.', 'ngay vào thời điểm khó khăn này, nguyễn văn sơn có sáng kiến tận dụng những máy rẽ gót để cải tiến thành máy cuốn bông, anh đề xuất ý kiến lên giám đốc và được chấp nhận.', 'khi đưa máy cuốn bông vào sử dụng, hiệu quả thấy rõ, mỗi máy cuốn bông với 2 cn điều khiển đã cho năng suất 220 bông/giờ.', 'nhờ thế công ty bảo đảm tiến độ giao hàng.', 'từ khi sơn vào làm tại công ty, anh đã có trên 10 sáng kiến giúp tăng năng suất lao động.', 'một trong những sáng kiến của sơn được đánh giá cao là việc chế tạo mặt băng cản máy dập đế giày.', 'chị hoàng thị sao mai, cn phân xưởng may, cho biết trước đây khi máy chưa có mặt băng cản, các cn thường bị dập, tróc tay do sơ ý để tay cuốn vào máy.', 'từ khi máy có mặt băng cản thì hoàn toàn không có tai nạn lao động xảy ra, cn yên tâm làm việc.', 'theo ông trần đăng thanh, những sáng kiến của cn nguyễn văn sơn khó có thể quy ra giá trị vật chất nhưng để động viên tinh thần làm việc, hằng năm công ty đều có 2 lần (1 triệu đồng/lần) khen thưởng cho các sáng kiến của anh.', 'luôn phấn đấu, học hỏi   sơn nói càng lăn lộn với nghề, anh càng cảm thấy bản thân còn nhiều khiếm khuyết cần phải phấn đấu.', 'trong bối cảnh ngành dệt may phải cạnh tranh hết sức khốc liệt để tồn tại thì vấn đề tăng năng suất lao động, nâng cao tay nghề nhưng vẫn bảo đảm sức khỏe cho cn là điều sơn luôn trăn trở.', 'anh luôn tìm tòi, nghiên cứu sách vở để tìm ra những phương pháp sử dụng máy có hiệu quả nhất.', 'là đội trưởng đội bảo trì máy với 6 người nhưng phải bảo trì, sửa chữa hơn 15 loại máy may trong số 800 máy ở phân xưởng may nên sơn cùng anh em trong đội phải chạy đôn chạy đáo mới làm hết việc.', 'anh luôn tập luyện để may thành thạo các loại máy trong công ty, khi đưa ra một loại máy cải tiến thì chính anh là người may mẫu đầu tiên và hướng dẫn cho các cn khác cho đến khi thành thạo.', 'nhìn lại quá trình phấn đấu của bản thân, sơn cho rằng với một người thợ máy như anh để có được tay nghề vững vàng, ngoài sự hỗ trợ của công ty và các đồng nghiệp, trước hết phải có lòng yêu nghề và sự nỗ lực phấn đấu của chính bản thân.']\n"
     ]
    }
   ],
   "source": [
    "\n",
    "import nltk\n",
    "sentences = nltk.sent_tokenize(contents_parsed[1])\n",
    "print(sentences)\n"
   ]
  },
  {
   "cell_type": "markdown",
   "metadata": {},
   "source": [
    "# Câu theo vecto"
   ]
  },
  {
   "cell_type": "code",
   "execution_count": 7,
   "metadata": {},
   "outputs": [],
   "source": [
    "import encodings\n",
    "from gensim.models import KeyedVectors \n",
    "\n",
    "w2v = KeyedVectors.load_word2vec_format('vi/vi.vec')\n"
   ]
  },
  {
   "cell_type": "code",
   "execution_count": 9,
   "metadata": {},
   "outputs": [],
   "source": [
    "vocab = w2v.key_to_index.keys()\n",
    "X = []\n",
    "for sentence in sentences:\n",
    "    sentence = ViTokenizer.tokenize(sentence)\n",
    "    words = sentence.split(\" \")\n",
    "    sentence_vec = np.zeros((100))\n",
    "    for word in words:\n",
    "        if word in vocab:\n",
    "            sentence_vec+=w2v[word]\n",
    "    X.append(sentence_vec)"
   ]
  },
  {
   "cell_type": "markdown",
   "metadata": {},
   "source": [
    "### phân cụm"
   ]
  },
  {
   "cell_type": "code",
   "execution_count": 10,
   "metadata": {},
   "outputs": [
    {
     "name": "stderr",
     "output_type": "stream",
     "text": [
      "d:\\New folder\\lib\\site-packages\\sklearn\\decomposition\\online_lda.py:31: DeprecationWarning: `np.float` is a deprecated alias for the builtin `float`. To silence this warning, use `float` by itself. Doing this will not modify any behavior and is safe. If you specifically wanted the numpy scalar type, use `np.float64` here.\n",
      "Deprecated in NumPy 1.20; for more details and guidance: https://numpy.org/devdocs/release/1.20.0-notes.html#deprecations\n",
      "  EPS = np.finfo(np.float).eps\n",
      "d:\\New folder\\lib\\site-packages\\sklearn\\metrics\\pairwise.py:54: DeprecationWarning: `np.float` is a deprecated alias for the builtin `float`. To silence this warning, use `float` by itself. Doing this will not modify any behavior and is safe. If you specifically wanted the numpy scalar type, use `np.float64` here.\n",
      "Deprecated in NumPy 1.20; for more details and guidance: https://numpy.org/devdocs/release/1.20.0-notes.html#deprecations\n",
      "  dtype = np.float\n",
      "d:\\New folder\\lib\\site-packages\\sklearn\\metrics\\pairwise.py:54: DeprecationWarning: `np.float` is a deprecated alias for the builtin `float`. To silence this warning, use `float` by itself. Doing this will not modify any behavior and is safe. If you specifically wanted the numpy scalar type, use `np.float64` here.\n",
      "Deprecated in NumPy 1.20; for more details and guidance: https://numpy.org/devdocs/release/1.20.0-notes.html#deprecations\n",
      "  dtype = np.float\n",
      "d:\\New folder\\lib\\site-packages\\sklearn\\metrics\\pairwise.py:54: DeprecationWarning: `np.float` is a deprecated alias for the builtin `float`. To silence this warning, use `float` by itself. Doing this will not modify any behavior and is safe. If you specifically wanted the numpy scalar type, use `np.float64` here.\n",
      "Deprecated in NumPy 1.20; for more details and guidance: https://numpy.org/devdocs/release/1.20.0-notes.html#deprecations\n",
      "  dtype = np.float\n",
      "d:\\New folder\\lib\\site-packages\\sklearn\\metrics\\pairwise.py:54: DeprecationWarning: `np.float` is a deprecated alias for the builtin `float`. To silence this warning, use `float` by itself. Doing this will not modify any behavior and is safe. If you specifically wanted the numpy scalar type, use `np.float64` here.\n",
      "Deprecated in NumPy 1.20; for more details and guidance: https://numpy.org/devdocs/release/1.20.0-notes.html#deprecations\n",
      "  dtype = np.float\n",
      "d:\\New folder\\lib\\site-packages\\sklearn\\metrics\\pairwise.py:54: DeprecationWarning: `np.float` is a deprecated alias for the builtin `float`. To silence this warning, use `float` by itself. Doing this will not modify any behavior and is safe. If you specifically wanted the numpy scalar type, use `np.float64` here.\n",
      "Deprecated in NumPy 1.20; for more details and guidance: https://numpy.org/devdocs/release/1.20.0-notes.html#deprecations\n",
      "  dtype = np.float\n",
      "d:\\New folder\\lib\\site-packages\\sklearn\\metrics\\pairwise.py:54: DeprecationWarning: `np.float` is a deprecated alias for the builtin `float`. To silence this warning, use `float` by itself. Doing this will not modify any behavior and is safe. If you specifically wanted the numpy scalar type, use `np.float64` here.\n",
      "Deprecated in NumPy 1.20; for more details and guidance: https://numpy.org/devdocs/release/1.20.0-notes.html#deprecations\n",
      "  dtype = np.float\n",
      "d:\\New folder\\lib\\site-packages\\sklearn\\cluster\\k_means_.py:444: DeprecationWarning: `np.int` is a deprecated alias for the builtin `int`. To silence this warning, use `int` by itself. Doing this will not modify any behavior and is safe. When replacing `np.int`, you may wish to use e.g. `np.int64` or `np.int32` to specify the precision. If you wish to review your current use, check the release note link for additional information.\n",
      "Deprecated in NumPy 1.20; for more details and guidance: https://numpy.org/devdocs/release/1.20.0-notes.html#deprecations\n",
      "  max_iter=max_iter, verbose=verbose)\n",
      "d:\\New folder\\lib\\site-packages\\sklearn\\metrics\\pairwise.py:54: DeprecationWarning: `np.float` is a deprecated alias for the builtin `float`. To silence this warning, use `float` by itself. Doing this will not modify any behavior and is safe. If you specifically wanted the numpy scalar type, use `np.float64` here.\n",
      "Deprecated in NumPy 1.20; for more details and guidance: https://numpy.org/devdocs/release/1.20.0-notes.html#deprecations\n",
      "  dtype = np.float\n",
      "d:\\New folder\\lib\\site-packages\\sklearn\\metrics\\pairwise.py:54: DeprecationWarning: `np.float` is a deprecated alias for the builtin `float`. To silence this warning, use `float` by itself. Doing this will not modify any behavior and is safe. If you specifically wanted the numpy scalar type, use `np.float64` here.\n",
      "Deprecated in NumPy 1.20; for more details and guidance: https://numpy.org/devdocs/release/1.20.0-notes.html#deprecations\n",
      "  dtype = np.float\n",
      "d:\\New folder\\lib\\site-packages\\sklearn\\metrics\\pairwise.py:54: DeprecationWarning: `np.float` is a deprecated alias for the builtin `float`. To silence this warning, use `float` by itself. Doing this will not modify any behavior and is safe. If you specifically wanted the numpy scalar type, use `np.float64` here.\n",
      "Deprecated in NumPy 1.20; for more details and guidance: https://numpy.org/devdocs/release/1.20.0-notes.html#deprecations\n",
      "  dtype = np.float\n",
      "d:\\New folder\\lib\\site-packages\\sklearn\\metrics\\pairwise.py:54: DeprecationWarning: `np.float` is a deprecated alias for the builtin `float`. To silence this warning, use `float` by itself. Doing this will not modify any behavior and is safe. If you specifically wanted the numpy scalar type, use `np.float64` here.\n",
      "Deprecated in NumPy 1.20; for more details and guidance: https://numpy.org/devdocs/release/1.20.0-notes.html#deprecations\n",
      "  dtype = np.float\n",
      "d:\\New folder\\lib\\site-packages\\sklearn\\metrics\\pairwise.py:54: DeprecationWarning: `np.float` is a deprecated alias for the builtin `float`. To silence this warning, use `float` by itself. Doing this will not modify any behavior and is safe. If you specifically wanted the numpy scalar type, use `np.float64` here.\n",
      "Deprecated in NumPy 1.20; for more details and guidance: https://numpy.org/devdocs/release/1.20.0-notes.html#deprecations\n",
      "  dtype = np.float\n",
      "d:\\New folder\\lib\\site-packages\\sklearn\\metrics\\pairwise.py:54: DeprecationWarning: `np.float` is a deprecated alias for the builtin `float`. To silence this warning, use `float` by itself. Doing this will not modify any behavior and is safe. If you specifically wanted the numpy scalar type, use `np.float64` here.\n",
      "Deprecated in NumPy 1.20; for more details and guidance: https://numpy.org/devdocs/release/1.20.0-notes.html#deprecations\n",
      "  dtype = np.float\n",
      "d:\\New folder\\lib\\site-packages\\sklearn\\metrics\\pairwise.py:54: DeprecationWarning: `np.float` is a deprecated alias for the builtin `float`. To silence this warning, use `float` by itself. Doing this will not modify any behavior and is safe. If you specifically wanted the numpy scalar type, use `np.float64` here.\n",
      "Deprecated in NumPy 1.20; for more details and guidance: https://numpy.org/devdocs/release/1.20.0-notes.html#deprecations\n",
      "  dtype = np.float\n",
      "d:\\New folder\\lib\\site-packages\\sklearn\\metrics\\pairwise.py:54: DeprecationWarning: `np.float` is a deprecated alias for the builtin `float`. To silence this warning, use `float` by itself. Doing this will not modify any behavior and is safe. If you specifically wanted the numpy scalar type, use `np.float64` here.\n",
      "Deprecated in NumPy 1.20; for more details and guidance: https://numpy.org/devdocs/release/1.20.0-notes.html#deprecations\n",
      "  dtype = np.float\n",
      "d:\\New folder\\lib\\site-packages\\sklearn\\cluster\\k_means_.py:444: DeprecationWarning: `np.int` is a deprecated alias for the builtin `int`. To silence this warning, use `int` by itself. Doing this will not modify any behavior and is safe. When replacing `np.int`, you may wish to use e.g. `np.int64` or `np.int32` to specify the precision. If you wish to review your current use, check the release note link for additional information.\n",
      "Deprecated in NumPy 1.20; for more details and guidance: https://numpy.org/devdocs/release/1.20.0-notes.html#deprecations\n",
      "  max_iter=max_iter, verbose=verbose)\n",
      "d:\\New folder\\lib\\site-packages\\sklearn\\metrics\\pairwise.py:54: DeprecationWarning: `np.float` is a deprecated alias for the builtin `float`. To silence this warning, use `float` by itself. Doing this will not modify any behavior and is safe. If you specifically wanted the numpy scalar type, use `np.float64` here.\n",
      "Deprecated in NumPy 1.20; for more details and guidance: https://numpy.org/devdocs/release/1.20.0-notes.html#deprecations\n",
      "  dtype = np.float\n",
      "d:\\New folder\\lib\\site-packages\\sklearn\\metrics\\pairwise.py:54: DeprecationWarning: `np.float` is a deprecated alias for the builtin `float`. To silence this warning, use `float` by itself. Doing this will not modify any behavior and is safe. If you specifically wanted the numpy scalar type, use `np.float64` here.\n",
      "Deprecated in NumPy 1.20; for more details and guidance: https://numpy.org/devdocs/release/1.20.0-notes.html#deprecations\n",
      "  dtype = np.float\n",
      "d:\\New folder\\lib\\site-packages\\sklearn\\metrics\\pairwise.py:54: DeprecationWarning: `np.float` is a deprecated alias for the builtin `float`. To silence this warning, use `float` by itself. Doing this will not modify any behavior and is safe. If you specifically wanted the numpy scalar type, use `np.float64` here.\n",
      "Deprecated in NumPy 1.20; for more details and guidance: https://numpy.org/devdocs/release/1.20.0-notes.html#deprecations\n",
      "  dtype = np.float\n",
      "d:\\New folder\\lib\\site-packages\\sklearn\\metrics\\pairwise.py:54: DeprecationWarning: `np.float` is a deprecated alias for the builtin `float`. To silence this warning, use `float` by itself. Doing this will not modify any behavior and is safe. If you specifically wanted the numpy scalar type, use `np.float64` here.\n",
      "Deprecated in NumPy 1.20; for more details and guidance: https://numpy.org/devdocs/release/1.20.0-notes.html#deprecations\n",
      "  dtype = np.float\n",
      "d:\\New folder\\lib\\site-packages\\sklearn\\metrics\\pairwise.py:54: DeprecationWarning: `np.float` is a deprecated alias for the builtin `float`. To silence this warning, use `float` by itself. Doing this will not modify any behavior and is safe. If you specifically wanted the numpy scalar type, use `np.float64` here.\n",
      "Deprecated in NumPy 1.20; for more details and guidance: https://numpy.org/devdocs/release/1.20.0-notes.html#deprecations\n",
      "  dtype = np.float\n",
      "d:\\New folder\\lib\\site-packages\\sklearn\\metrics\\pairwise.py:54: DeprecationWarning: `np.float` is a deprecated alias for the builtin `float`. To silence this warning, use `float` by itself. Doing this will not modify any behavior and is safe. If you specifically wanted the numpy scalar type, use `np.float64` here.\n",
      "Deprecated in NumPy 1.20; for more details and guidance: https://numpy.org/devdocs/release/1.20.0-notes.html#deprecations\n",
      "  dtype = np.float\n",
      "d:\\New folder\\lib\\site-packages\\sklearn\\metrics\\pairwise.py:54: DeprecationWarning: `np.float` is a deprecated alias for the builtin `float`. To silence this warning, use `float` by itself. Doing this will not modify any behavior and is safe. If you specifically wanted the numpy scalar type, use `np.float64` here.\n",
      "Deprecated in NumPy 1.20; for more details and guidance: https://numpy.org/devdocs/release/1.20.0-notes.html#deprecations\n",
      "  dtype = np.float\n",
      "d:\\New folder\\lib\\site-packages\\sklearn\\metrics\\pairwise.py:54: DeprecationWarning: `np.float` is a deprecated alias for the builtin `float`. To silence this warning, use `float` by itself. Doing this will not modify any behavior and is safe. If you specifically wanted the numpy scalar type, use `np.float64` here.\n",
      "Deprecated in NumPy 1.20; for more details and guidance: https://numpy.org/devdocs/release/1.20.0-notes.html#deprecations\n",
      "  dtype = np.float\n",
      "d:\\New folder\\lib\\site-packages\\sklearn\\cluster\\k_means_.py:444: DeprecationWarning: `np.int` is a deprecated alias for the builtin `int`. To silence this warning, use `int` by itself. Doing this will not modify any behavior and is safe. When replacing `np.int`, you may wish to use e.g. `np.int64` or `np.int32` to specify the precision. If you wish to review your current use, check the release note link for additional information.\n",
      "Deprecated in NumPy 1.20; for more details and guidance: https://numpy.org/devdocs/release/1.20.0-notes.html#deprecations\n",
      "  max_iter=max_iter, verbose=verbose)\n",
      "d:\\New folder\\lib\\site-packages\\sklearn\\metrics\\pairwise.py:54: DeprecationWarning: `np.float` is a deprecated alias for the builtin `float`. To silence this warning, use `float` by itself. Doing this will not modify any behavior and is safe. If you specifically wanted the numpy scalar type, use `np.float64` here.\n",
      "Deprecated in NumPy 1.20; for more details and guidance: https://numpy.org/devdocs/release/1.20.0-notes.html#deprecations\n",
      "  dtype = np.float\n",
      "d:\\New folder\\lib\\site-packages\\sklearn\\metrics\\pairwise.py:54: DeprecationWarning: `np.float` is a deprecated alias for the builtin `float`. To silence this warning, use `float` by itself. Doing this will not modify any behavior and is safe. If you specifically wanted the numpy scalar type, use `np.float64` here.\n",
      "Deprecated in NumPy 1.20; for more details and guidance: https://numpy.org/devdocs/release/1.20.0-notes.html#deprecations\n",
      "  dtype = np.float\n",
      "d:\\New folder\\lib\\site-packages\\sklearn\\metrics\\pairwise.py:54: DeprecationWarning: `np.float` is a deprecated alias for the builtin `float`. To silence this warning, use `float` by itself. Doing this will not modify any behavior and is safe. If you specifically wanted the numpy scalar type, use `np.float64` here.\n",
      "Deprecated in NumPy 1.20; for more details and guidance: https://numpy.org/devdocs/release/1.20.0-notes.html#deprecations\n",
      "  dtype = np.float\n",
      "d:\\New folder\\lib\\site-packages\\sklearn\\metrics\\pairwise.py:54: DeprecationWarning: `np.float` is a deprecated alias for the builtin `float`. To silence this warning, use `float` by itself. Doing this will not modify any behavior and is safe. If you specifically wanted the numpy scalar type, use `np.float64` here.\n",
      "Deprecated in NumPy 1.20; for more details and guidance: https://numpy.org/devdocs/release/1.20.0-notes.html#deprecations\n",
      "  dtype = np.float\n",
      "d:\\New folder\\lib\\site-packages\\sklearn\\metrics\\pairwise.py:54: DeprecationWarning: `np.float` is a deprecated alias for the builtin `float`. To silence this warning, use `float` by itself. Doing this will not modify any behavior and is safe. If you specifically wanted the numpy scalar type, use `np.float64` here.\n",
      "Deprecated in NumPy 1.20; for more details and guidance: https://numpy.org/devdocs/release/1.20.0-notes.html#deprecations\n",
      "  dtype = np.float\n",
      "d:\\New folder\\lib\\site-packages\\sklearn\\metrics\\pairwise.py:54: DeprecationWarning: `np.float` is a deprecated alias for the builtin `float`. To silence this warning, use `float` by itself. Doing this will not modify any behavior and is safe. If you specifically wanted the numpy scalar type, use `np.float64` here.\n",
      "Deprecated in NumPy 1.20; for more details and guidance: https://numpy.org/devdocs/release/1.20.0-notes.html#deprecations\n",
      "  dtype = np.float\n",
      "d:\\New folder\\lib\\site-packages\\sklearn\\metrics\\pairwise.py:54: DeprecationWarning: `np.float` is a deprecated alias for the builtin `float`. To silence this warning, use `float` by itself. Doing this will not modify any behavior and is safe. If you specifically wanted the numpy scalar type, use `np.float64` here.\n",
      "Deprecated in NumPy 1.20; for more details and guidance: https://numpy.org/devdocs/release/1.20.0-notes.html#deprecations\n",
      "  dtype = np.float\n",
      "d:\\New folder\\lib\\site-packages\\sklearn\\metrics\\pairwise.py:54: DeprecationWarning: `np.float` is a deprecated alias for the builtin `float`. To silence this warning, use `float` by itself. Doing this will not modify any behavior and is safe. If you specifically wanted the numpy scalar type, use `np.float64` here.\n",
      "Deprecated in NumPy 1.20; for more details and guidance: https://numpy.org/devdocs/release/1.20.0-notes.html#deprecations\n",
      "  dtype = np.float\n",
      "d:\\New folder\\lib\\site-packages\\sklearn\\metrics\\pairwise.py:54: DeprecationWarning: `np.float` is a deprecated alias for the builtin `float`. To silence this warning, use `float` by itself. Doing this will not modify any behavior and is safe. If you specifically wanted the numpy scalar type, use `np.float64` here.\n",
      "Deprecated in NumPy 1.20; for more details and guidance: https://numpy.org/devdocs/release/1.20.0-notes.html#deprecations\n",
      "  dtype = np.float\n",
      "d:\\New folder\\lib\\site-packages\\sklearn\\cluster\\k_means_.py:444: DeprecationWarning: `np.int` is a deprecated alias for the builtin `int`. To silence this warning, use `int` by itself. Doing this will not modify any behavior and is safe. When replacing `np.int`, you may wish to use e.g. `np.int64` or `np.int32` to specify the precision. If you wish to review your current use, check the release note link for additional information.\n",
      "Deprecated in NumPy 1.20; for more details and guidance: https://numpy.org/devdocs/release/1.20.0-notes.html#deprecations\n",
      "  max_iter=max_iter, verbose=verbose)\n",
      "d:\\New folder\\lib\\site-packages\\sklearn\\metrics\\pairwise.py:54: DeprecationWarning: `np.float` is a deprecated alias for the builtin `float`. To silence this warning, use `float` by itself. Doing this will not modify any behavior and is safe. If you specifically wanted the numpy scalar type, use `np.float64` here.\n",
      "Deprecated in NumPy 1.20; for more details and guidance: https://numpy.org/devdocs/release/1.20.0-notes.html#deprecations\n",
      "  dtype = np.float\n",
      "d:\\New folder\\lib\\site-packages\\sklearn\\metrics\\pairwise.py:54: DeprecationWarning: `np.float` is a deprecated alias for the builtin `float`. To silence this warning, use `float` by itself. Doing this will not modify any behavior and is safe. If you specifically wanted the numpy scalar type, use `np.float64` here.\n",
      "Deprecated in NumPy 1.20; for more details and guidance: https://numpy.org/devdocs/release/1.20.0-notes.html#deprecations\n",
      "  dtype = np.float\n",
      "d:\\New folder\\lib\\site-packages\\sklearn\\metrics\\pairwise.py:54: DeprecationWarning: `np.float` is a deprecated alias for the builtin `float`. To silence this warning, use `float` by itself. Doing this will not modify any behavior and is safe. If you specifically wanted the numpy scalar type, use `np.float64` here.\n",
      "Deprecated in NumPy 1.20; for more details and guidance: https://numpy.org/devdocs/release/1.20.0-notes.html#deprecations\n",
      "  dtype = np.float\n",
      "d:\\New folder\\lib\\site-packages\\sklearn\\metrics\\pairwise.py:54: DeprecationWarning: `np.float` is a deprecated alias for the builtin `float`. To silence this warning, use `float` by itself. Doing this will not modify any behavior and is safe. If you specifically wanted the numpy scalar type, use `np.float64` here.\n",
      "Deprecated in NumPy 1.20; for more details and guidance: https://numpy.org/devdocs/release/1.20.0-notes.html#deprecations\n",
      "  dtype = np.float\n",
      "d:\\New folder\\lib\\site-packages\\sklearn\\metrics\\pairwise.py:54: DeprecationWarning: `np.float` is a deprecated alias for the builtin `float`. To silence this warning, use `float` by itself. Doing this will not modify any behavior and is safe. If you specifically wanted the numpy scalar type, use `np.float64` here.\n",
      "Deprecated in NumPy 1.20; for more details and guidance: https://numpy.org/devdocs/release/1.20.0-notes.html#deprecations\n",
      "  dtype = np.float\n",
      "d:\\New folder\\lib\\site-packages\\sklearn\\metrics\\pairwise.py:54: DeprecationWarning: `np.float` is a deprecated alias for the builtin `float`. To silence this warning, use `float` by itself. Doing this will not modify any behavior and is safe. If you specifically wanted the numpy scalar type, use `np.float64` here.\n",
      "Deprecated in NumPy 1.20; for more details and guidance: https://numpy.org/devdocs/release/1.20.0-notes.html#deprecations\n",
      "  dtype = np.float\n",
      "d:\\New folder\\lib\\site-packages\\sklearn\\metrics\\pairwise.py:54: DeprecationWarning: `np.float` is a deprecated alias for the builtin `float`. To silence this warning, use `float` by itself. Doing this will not modify any behavior and is safe. If you specifically wanted the numpy scalar type, use `np.float64` here.\n",
      "Deprecated in NumPy 1.20; for more details and guidance: https://numpy.org/devdocs/release/1.20.0-notes.html#deprecations\n",
      "  dtype = np.float\n",
      "d:\\New folder\\lib\\site-packages\\sklearn\\metrics\\pairwise.py:54: DeprecationWarning: `np.float` is a deprecated alias for the builtin `float`. To silence this warning, use `float` by itself. Doing this will not modify any behavior and is safe. If you specifically wanted the numpy scalar type, use `np.float64` here.\n",
      "Deprecated in NumPy 1.20; for more details and guidance: https://numpy.org/devdocs/release/1.20.0-notes.html#deprecations\n",
      "  dtype = np.float\n",
      "d:\\New folder\\lib\\site-packages\\sklearn\\metrics\\pairwise.py:54: DeprecationWarning: `np.float` is a deprecated alias for the builtin `float`. To silence this warning, use `float` by itself. Doing this will not modify any behavior and is safe. If you specifically wanted the numpy scalar type, use `np.float64` here.\n",
      "Deprecated in NumPy 1.20; for more details and guidance: https://numpy.org/devdocs/release/1.20.0-notes.html#deprecations\n",
      "  dtype = np.float\n",
      "d:\\New folder\\lib\\site-packages\\sklearn\\metrics\\pairwise.py:54: DeprecationWarning: `np.float` is a deprecated alias for the builtin `float`. To silence this warning, use `float` by itself. Doing this will not modify any behavior and is safe. If you specifically wanted the numpy scalar type, use `np.float64` here.\n",
      "Deprecated in NumPy 1.20; for more details and guidance: https://numpy.org/devdocs/release/1.20.0-notes.html#deprecations\n",
      "  dtype = np.float\n",
      "d:\\New folder\\lib\\site-packages\\sklearn\\cluster\\k_means_.py:444: DeprecationWarning: `np.int` is a deprecated alias for the builtin `int`. To silence this warning, use `int` by itself. Doing this will not modify any behavior and is safe. When replacing `np.int`, you may wish to use e.g. `np.int64` or `np.int32` to specify the precision. If you wish to review your current use, check the release note link for additional information.\n",
      "Deprecated in NumPy 1.20; for more details and guidance: https://numpy.org/devdocs/release/1.20.0-notes.html#deprecations\n",
      "  max_iter=max_iter, verbose=verbose)\n",
      "d:\\New folder\\lib\\site-packages\\sklearn\\metrics\\pairwise.py:54: DeprecationWarning: `np.float` is a deprecated alias for the builtin `float`. To silence this warning, use `float` by itself. Doing this will not modify any behavior and is safe. If you specifically wanted the numpy scalar type, use `np.float64` here.\n",
      "Deprecated in NumPy 1.20; for more details and guidance: https://numpy.org/devdocs/release/1.20.0-notes.html#deprecations\n",
      "  dtype = np.float\n",
      "d:\\New folder\\lib\\site-packages\\sklearn\\metrics\\pairwise.py:54: DeprecationWarning: `np.float` is a deprecated alias for the builtin `float`. To silence this warning, use `float` by itself. Doing this will not modify any behavior and is safe. If you specifically wanted the numpy scalar type, use `np.float64` here.\n",
      "Deprecated in NumPy 1.20; for more details and guidance: https://numpy.org/devdocs/release/1.20.0-notes.html#deprecations\n",
      "  dtype = np.float\n",
      "d:\\New folder\\lib\\site-packages\\sklearn\\metrics\\pairwise.py:54: DeprecationWarning: `np.float` is a deprecated alias for the builtin `float`. To silence this warning, use `float` by itself. Doing this will not modify any behavior and is safe. If you specifically wanted the numpy scalar type, use `np.float64` here.\n",
      "Deprecated in NumPy 1.20; for more details and guidance: https://numpy.org/devdocs/release/1.20.0-notes.html#deprecations\n",
      "  dtype = np.float\n",
      "d:\\New folder\\lib\\site-packages\\sklearn\\metrics\\pairwise.py:54: DeprecationWarning: `np.float` is a deprecated alias for the builtin `float`. To silence this warning, use `float` by itself. Doing this will not modify any behavior and is safe. If you specifically wanted the numpy scalar type, use `np.float64` here.\n",
      "Deprecated in NumPy 1.20; for more details and guidance: https://numpy.org/devdocs/release/1.20.0-notes.html#deprecations\n",
      "  dtype = np.float\n",
      "d:\\New folder\\lib\\site-packages\\sklearn\\metrics\\pairwise.py:54: DeprecationWarning: `np.float` is a deprecated alias for the builtin `float`. To silence this warning, use `float` by itself. Doing this will not modify any behavior and is safe. If you specifically wanted the numpy scalar type, use `np.float64` here.\n",
      "Deprecated in NumPy 1.20; for more details and guidance: https://numpy.org/devdocs/release/1.20.0-notes.html#deprecations\n",
      "  dtype = np.float\n",
      "d:\\New folder\\lib\\site-packages\\sklearn\\metrics\\pairwise.py:54: DeprecationWarning: `np.float` is a deprecated alias for the builtin `float`. To silence this warning, use `float` by itself. Doing this will not modify any behavior and is safe. If you specifically wanted the numpy scalar type, use `np.float64` here.\n",
      "Deprecated in NumPy 1.20; for more details and guidance: https://numpy.org/devdocs/release/1.20.0-notes.html#deprecations\n",
      "  dtype = np.float\n",
      "d:\\New folder\\lib\\site-packages\\sklearn\\metrics\\pairwise.py:54: DeprecationWarning: `np.float` is a deprecated alias for the builtin `float`. To silence this warning, use `float` by itself. Doing this will not modify any behavior and is safe. If you specifically wanted the numpy scalar type, use `np.float64` here.\n",
      "Deprecated in NumPy 1.20; for more details and guidance: https://numpy.org/devdocs/release/1.20.0-notes.html#deprecations\n",
      "  dtype = np.float\n",
      "d:\\New folder\\lib\\site-packages\\sklearn\\metrics\\pairwise.py:54: DeprecationWarning: `np.float` is a deprecated alias for the builtin `float`. To silence this warning, use `float` by itself. Doing this will not modify any behavior and is safe. If you specifically wanted the numpy scalar type, use `np.float64` here.\n",
      "Deprecated in NumPy 1.20; for more details and guidance: https://numpy.org/devdocs/release/1.20.0-notes.html#deprecations\n",
      "  dtype = np.float\n",
      "d:\\New folder\\lib\\site-packages\\sklearn\\cluster\\k_means_.py:444: DeprecationWarning: `np.int` is a deprecated alias for the builtin `int`. To silence this warning, use `int` by itself. Doing this will not modify any behavior and is safe. When replacing `np.int`, you may wish to use e.g. `np.int64` or `np.int32` to specify the precision. If you wish to review your current use, check the release note link for additional information.\n",
      "Deprecated in NumPy 1.20; for more details and guidance: https://numpy.org/devdocs/release/1.20.0-notes.html#deprecations\n",
      "  max_iter=max_iter, verbose=verbose)\n",
      "d:\\New folder\\lib\\site-packages\\sklearn\\metrics\\pairwise.py:54: DeprecationWarning: `np.float` is a deprecated alias for the builtin `float`. To silence this warning, use `float` by itself. Doing this will not modify any behavior and is safe. If you specifically wanted the numpy scalar type, use `np.float64` here.\n",
      "Deprecated in NumPy 1.20; for more details and guidance: https://numpy.org/devdocs/release/1.20.0-notes.html#deprecations\n",
      "  dtype = np.float\n",
      "d:\\New folder\\lib\\site-packages\\sklearn\\metrics\\pairwise.py:54: DeprecationWarning: `np.float` is a deprecated alias for the builtin `float`. To silence this warning, use `float` by itself. Doing this will not modify any behavior and is safe. If you specifically wanted the numpy scalar type, use `np.float64` here.\n",
      "Deprecated in NumPy 1.20; for more details and guidance: https://numpy.org/devdocs/release/1.20.0-notes.html#deprecations\n",
      "  dtype = np.float\n",
      "d:\\New folder\\lib\\site-packages\\sklearn\\metrics\\pairwise.py:54: DeprecationWarning: `np.float` is a deprecated alias for the builtin `float`. To silence this warning, use `float` by itself. Doing this will not modify any behavior and is safe. If you specifically wanted the numpy scalar type, use `np.float64` here.\n",
      "Deprecated in NumPy 1.20; for more details and guidance: https://numpy.org/devdocs/release/1.20.0-notes.html#deprecations\n",
      "  dtype = np.float\n",
      "d:\\New folder\\lib\\site-packages\\sklearn\\metrics\\pairwise.py:54: DeprecationWarning: `np.float` is a deprecated alias for the builtin `float`. To silence this warning, use `float` by itself. Doing this will not modify any behavior and is safe. If you specifically wanted the numpy scalar type, use `np.float64` here.\n",
      "Deprecated in NumPy 1.20; for more details and guidance: https://numpy.org/devdocs/release/1.20.0-notes.html#deprecations\n",
      "  dtype = np.float\n",
      "d:\\New folder\\lib\\site-packages\\sklearn\\metrics\\pairwise.py:54: DeprecationWarning: `np.float` is a deprecated alias for the builtin `float`. To silence this warning, use `float` by itself. Doing this will not modify any behavior and is safe. If you specifically wanted the numpy scalar type, use `np.float64` here.\n",
      "Deprecated in NumPy 1.20; for more details and guidance: https://numpy.org/devdocs/release/1.20.0-notes.html#deprecations\n",
      "  dtype = np.float\n",
      "d:\\New folder\\lib\\site-packages\\sklearn\\metrics\\pairwise.py:54: DeprecationWarning: `np.float` is a deprecated alias for the builtin `float`. To silence this warning, use `float` by itself. Doing this will not modify any behavior and is safe. If you specifically wanted the numpy scalar type, use `np.float64` here.\n",
      "Deprecated in NumPy 1.20; for more details and guidance: https://numpy.org/devdocs/release/1.20.0-notes.html#deprecations\n",
      "  dtype = np.float\n",
      "d:\\New folder\\lib\\site-packages\\sklearn\\metrics\\pairwise.py:54: DeprecationWarning: `np.float` is a deprecated alias for the builtin `float`. To silence this warning, use `float` by itself. Doing this will not modify any behavior and is safe. If you specifically wanted the numpy scalar type, use `np.float64` here.\n",
      "Deprecated in NumPy 1.20; for more details and guidance: https://numpy.org/devdocs/release/1.20.0-notes.html#deprecations\n",
      "  dtype = np.float\n",
      "d:\\New folder\\lib\\site-packages\\sklearn\\metrics\\pairwise.py:54: DeprecationWarning: `np.float` is a deprecated alias for the builtin `float`. To silence this warning, use `float` by itself. Doing this will not modify any behavior and is safe. If you specifically wanted the numpy scalar type, use `np.float64` here.\n",
      "Deprecated in NumPy 1.20; for more details and guidance: https://numpy.org/devdocs/release/1.20.0-notes.html#deprecations\n",
      "  dtype = np.float\n",
      "d:\\New folder\\lib\\site-packages\\sklearn\\metrics\\pairwise.py:54: DeprecationWarning: `np.float` is a deprecated alias for the builtin `float`. To silence this warning, use `float` by itself. Doing this will not modify any behavior and is safe. If you specifically wanted the numpy scalar type, use `np.float64` here.\n",
      "Deprecated in NumPy 1.20; for more details and guidance: https://numpy.org/devdocs/release/1.20.0-notes.html#deprecations\n",
      "  dtype = np.float\n",
      "d:\\New folder\\lib\\site-packages\\sklearn\\metrics\\pairwise.py:54: DeprecationWarning: `np.float` is a deprecated alias for the builtin `float`. To silence this warning, use `float` by itself. Doing this will not modify any behavior and is safe. If you specifically wanted the numpy scalar type, use `np.float64` here.\n",
      "Deprecated in NumPy 1.20; for more details and guidance: https://numpy.org/devdocs/release/1.20.0-notes.html#deprecations\n",
      "  dtype = np.float\n",
      "d:\\New folder\\lib\\site-packages\\sklearn\\cluster\\k_means_.py:444: DeprecationWarning: `np.int` is a deprecated alias for the builtin `int`. To silence this warning, use `int` by itself. Doing this will not modify any behavior and is safe. When replacing `np.int`, you may wish to use e.g. `np.int64` or `np.int32` to specify the precision. If you wish to review your current use, check the release note link for additional information.\n",
      "Deprecated in NumPy 1.20; for more details and guidance: https://numpy.org/devdocs/release/1.20.0-notes.html#deprecations\n",
      "  max_iter=max_iter, verbose=verbose)\n",
      "d:\\New folder\\lib\\site-packages\\sklearn\\metrics\\pairwise.py:54: DeprecationWarning: `np.float` is a deprecated alias for the builtin `float`. To silence this warning, use `float` by itself. Doing this will not modify any behavior and is safe. If you specifically wanted the numpy scalar type, use `np.float64` here.\n",
      "Deprecated in NumPy 1.20; for more details and guidance: https://numpy.org/devdocs/release/1.20.0-notes.html#deprecations\n",
      "  dtype = np.float\n",
      "d:\\New folder\\lib\\site-packages\\sklearn\\metrics\\pairwise.py:54: DeprecationWarning: `np.float` is a deprecated alias for the builtin `float`. To silence this warning, use `float` by itself. Doing this will not modify any behavior and is safe. If you specifically wanted the numpy scalar type, use `np.float64` here.\n",
      "Deprecated in NumPy 1.20; for more details and guidance: https://numpy.org/devdocs/release/1.20.0-notes.html#deprecations\n",
      "  dtype = np.float\n",
      "d:\\New folder\\lib\\site-packages\\sklearn\\metrics\\pairwise.py:54: DeprecationWarning: `np.float` is a deprecated alias for the builtin `float`. To silence this warning, use `float` by itself. Doing this will not modify any behavior and is safe. If you specifically wanted the numpy scalar type, use `np.float64` here.\n",
      "Deprecated in NumPy 1.20; for more details and guidance: https://numpy.org/devdocs/release/1.20.0-notes.html#deprecations\n",
      "  dtype = np.float\n",
      "d:\\New folder\\lib\\site-packages\\sklearn\\metrics\\pairwise.py:54: DeprecationWarning: `np.float` is a deprecated alias for the builtin `float`. To silence this warning, use `float` by itself. Doing this will not modify any behavior and is safe. If you specifically wanted the numpy scalar type, use `np.float64` here.\n",
      "Deprecated in NumPy 1.20; for more details and guidance: https://numpy.org/devdocs/release/1.20.0-notes.html#deprecations\n",
      "  dtype = np.float\n",
      "d:\\New folder\\lib\\site-packages\\sklearn\\metrics\\pairwise.py:54: DeprecationWarning: `np.float` is a deprecated alias for the builtin `float`. To silence this warning, use `float` by itself. Doing this will not modify any behavior and is safe. If you specifically wanted the numpy scalar type, use `np.float64` here.\n",
      "Deprecated in NumPy 1.20; for more details and guidance: https://numpy.org/devdocs/release/1.20.0-notes.html#deprecations\n",
      "  dtype = np.float\n",
      "d:\\New folder\\lib\\site-packages\\sklearn\\metrics\\pairwise.py:54: DeprecationWarning: `np.float` is a deprecated alias for the builtin `float`. To silence this warning, use `float` by itself. Doing this will not modify any behavior and is safe. If you specifically wanted the numpy scalar type, use `np.float64` here.\n",
      "Deprecated in NumPy 1.20; for more details and guidance: https://numpy.org/devdocs/release/1.20.0-notes.html#deprecations\n",
      "  dtype = np.float\n",
      "d:\\New folder\\lib\\site-packages\\sklearn\\metrics\\pairwise.py:54: DeprecationWarning: `np.float` is a deprecated alias for the builtin `float`. To silence this warning, use `float` by itself. Doing this will not modify any behavior and is safe. If you specifically wanted the numpy scalar type, use `np.float64` here.\n",
      "Deprecated in NumPy 1.20; for more details and guidance: https://numpy.org/devdocs/release/1.20.0-notes.html#deprecations\n",
      "  dtype = np.float\n",
      "d:\\New folder\\lib\\site-packages\\sklearn\\metrics\\pairwise.py:54: DeprecationWarning: `np.float` is a deprecated alias for the builtin `float`. To silence this warning, use `float` by itself. Doing this will not modify any behavior and is safe. If you specifically wanted the numpy scalar type, use `np.float64` here.\n",
      "Deprecated in NumPy 1.20; for more details and guidance: https://numpy.org/devdocs/release/1.20.0-notes.html#deprecations\n",
      "  dtype = np.float\n",
      "d:\\New folder\\lib\\site-packages\\sklearn\\cluster\\k_means_.py:444: DeprecationWarning: `np.int` is a deprecated alias for the builtin `int`. To silence this warning, use `int` by itself. Doing this will not modify any behavior and is safe. When replacing `np.int`, you may wish to use e.g. `np.int64` or `np.int32` to specify the precision. If you wish to review your current use, check the release note link for additional information.\n",
      "Deprecated in NumPy 1.20; for more details and guidance: https://numpy.org/devdocs/release/1.20.0-notes.html#deprecations\n",
      "  max_iter=max_iter, verbose=verbose)\n",
      "d:\\New folder\\lib\\site-packages\\sklearn\\metrics\\pairwise.py:54: DeprecationWarning: `np.float` is a deprecated alias for the builtin `float`. To silence this warning, use `float` by itself. Doing this will not modify any behavior and is safe. If you specifically wanted the numpy scalar type, use `np.float64` here.\n",
      "Deprecated in NumPy 1.20; for more details and guidance: https://numpy.org/devdocs/release/1.20.0-notes.html#deprecations\n",
      "  dtype = np.float\n",
      "d:\\New folder\\lib\\site-packages\\sklearn\\metrics\\pairwise.py:54: DeprecationWarning: `np.float` is a deprecated alias for the builtin `float`. To silence this warning, use `float` by itself. Doing this will not modify any behavior and is safe. If you specifically wanted the numpy scalar type, use `np.float64` here.\n",
      "Deprecated in NumPy 1.20; for more details and guidance: https://numpy.org/devdocs/release/1.20.0-notes.html#deprecations\n",
      "  dtype = np.float\n",
      "d:\\New folder\\lib\\site-packages\\sklearn\\metrics\\pairwise.py:54: DeprecationWarning: `np.float` is a deprecated alias for the builtin `float`. To silence this warning, use `float` by itself. Doing this will not modify any behavior and is safe. If you specifically wanted the numpy scalar type, use `np.float64` here.\n",
      "Deprecated in NumPy 1.20; for more details and guidance: https://numpy.org/devdocs/release/1.20.0-notes.html#deprecations\n",
      "  dtype = np.float\n",
      "d:\\New folder\\lib\\site-packages\\sklearn\\metrics\\pairwise.py:54: DeprecationWarning: `np.float` is a deprecated alias for the builtin `float`. To silence this warning, use `float` by itself. Doing this will not modify any behavior and is safe. If you specifically wanted the numpy scalar type, use `np.float64` here.\n",
      "Deprecated in NumPy 1.20; for more details and guidance: https://numpy.org/devdocs/release/1.20.0-notes.html#deprecations\n",
      "  dtype = np.float\n",
      "d:\\New folder\\lib\\site-packages\\sklearn\\metrics\\pairwise.py:54: DeprecationWarning: `np.float` is a deprecated alias for the builtin `float`. To silence this warning, use `float` by itself. Doing this will not modify any behavior and is safe. If you specifically wanted the numpy scalar type, use `np.float64` here.\n",
      "Deprecated in NumPy 1.20; for more details and guidance: https://numpy.org/devdocs/release/1.20.0-notes.html#deprecations\n",
      "  dtype = np.float\n",
      "d:\\New folder\\lib\\site-packages\\sklearn\\metrics\\pairwise.py:54: DeprecationWarning: `np.float` is a deprecated alias for the builtin `float`. To silence this warning, use `float` by itself. Doing this will not modify any behavior and is safe. If you specifically wanted the numpy scalar type, use `np.float64` here.\n",
      "Deprecated in NumPy 1.20; for more details and guidance: https://numpy.org/devdocs/release/1.20.0-notes.html#deprecations\n",
      "  dtype = np.float\n",
      "d:\\New folder\\lib\\site-packages\\sklearn\\metrics\\pairwise.py:54: DeprecationWarning: `np.float` is a deprecated alias for the builtin `float`. To silence this warning, use `float` by itself. Doing this will not modify any behavior and is safe. If you specifically wanted the numpy scalar type, use `np.float64` here.\n",
      "Deprecated in NumPy 1.20; for more details and guidance: https://numpy.org/devdocs/release/1.20.0-notes.html#deprecations\n",
      "  dtype = np.float\n",
      "d:\\New folder\\lib\\site-packages\\sklearn\\metrics\\pairwise.py:54: DeprecationWarning: `np.float` is a deprecated alias for the builtin `float`. To silence this warning, use `float` by itself. Doing this will not modify any behavior and is safe. If you specifically wanted the numpy scalar type, use `np.float64` here.\n",
      "Deprecated in NumPy 1.20; for more details and guidance: https://numpy.org/devdocs/release/1.20.0-notes.html#deprecations\n",
      "  dtype = np.float\n",
      "d:\\New folder\\lib\\site-packages\\sklearn\\cluster\\k_means_.py:444: DeprecationWarning: `np.int` is a deprecated alias for the builtin `int`. To silence this warning, use `int` by itself. Doing this will not modify any behavior and is safe. When replacing `np.int`, you may wish to use e.g. `np.int64` or `np.int32` to specify the precision. If you wish to review your current use, check the release note link for additional information.\n",
      "Deprecated in NumPy 1.20; for more details and guidance: https://numpy.org/devdocs/release/1.20.0-notes.html#deprecations\n",
      "  max_iter=max_iter, verbose=verbose)\n",
      "d:\\New folder\\lib\\site-packages\\sklearn\\metrics\\pairwise.py:54: DeprecationWarning: `np.float` is a deprecated alias for the builtin `float`. To silence this warning, use `float` by itself. Doing this will not modify any behavior and is safe. If you specifically wanted the numpy scalar type, use `np.float64` here.\n",
      "Deprecated in NumPy 1.20; for more details and guidance: https://numpy.org/devdocs/release/1.20.0-notes.html#deprecations\n",
      "  dtype = np.float\n",
      "d:\\New folder\\lib\\site-packages\\sklearn\\metrics\\pairwise.py:54: DeprecationWarning: `np.float` is a deprecated alias for the builtin `float`. To silence this warning, use `float` by itself. Doing this will not modify any behavior and is safe. If you specifically wanted the numpy scalar type, use `np.float64` here.\n",
      "Deprecated in NumPy 1.20; for more details and guidance: https://numpy.org/devdocs/release/1.20.0-notes.html#deprecations\n",
      "  dtype = np.float\n",
      "d:\\New folder\\lib\\site-packages\\sklearn\\metrics\\pairwise.py:54: DeprecationWarning: `np.float` is a deprecated alias for the builtin `float`. To silence this warning, use `float` by itself. Doing this will not modify any behavior and is safe. If you specifically wanted the numpy scalar type, use `np.float64` here.\n",
      "Deprecated in NumPy 1.20; for more details and guidance: https://numpy.org/devdocs/release/1.20.0-notes.html#deprecations\n",
      "  dtype = np.float\n",
      "d:\\New folder\\lib\\site-packages\\sklearn\\metrics\\pairwise.py:54: DeprecationWarning: `np.float` is a deprecated alias for the builtin `float`. To silence this warning, use `float` by itself. Doing this will not modify any behavior and is safe. If you specifically wanted the numpy scalar type, use `np.float64` here.\n",
      "Deprecated in NumPy 1.20; for more details and guidance: https://numpy.org/devdocs/release/1.20.0-notes.html#deprecations\n",
      "  dtype = np.float\n",
      "d:\\New folder\\lib\\site-packages\\sklearn\\metrics\\pairwise.py:54: DeprecationWarning: `np.float` is a deprecated alias for the builtin `float`. To silence this warning, use `float` by itself. Doing this will not modify any behavior and is safe. If you specifically wanted the numpy scalar type, use `np.float64` here.\n",
      "Deprecated in NumPy 1.20; for more details and guidance: https://numpy.org/devdocs/release/1.20.0-notes.html#deprecations\n",
      "  dtype = np.float\n",
      "d:\\New folder\\lib\\site-packages\\sklearn\\metrics\\pairwise.py:54: DeprecationWarning: `np.float` is a deprecated alias for the builtin `float`. To silence this warning, use `float` by itself. Doing this will not modify any behavior and is safe. If you specifically wanted the numpy scalar type, use `np.float64` here.\n",
      "Deprecated in NumPy 1.20; for more details and guidance: https://numpy.org/devdocs/release/1.20.0-notes.html#deprecations\n",
      "  dtype = np.float\n",
      "d:\\New folder\\lib\\site-packages\\sklearn\\metrics\\pairwise.py:54: DeprecationWarning: `np.float` is a deprecated alias for the builtin `float`. To silence this warning, use `float` by itself. Doing this will not modify any behavior and is safe. If you specifically wanted the numpy scalar type, use `np.float64` here.\n",
      "Deprecated in NumPy 1.20; for more details and guidance: https://numpy.org/devdocs/release/1.20.0-notes.html#deprecations\n",
      "  dtype = np.float\n",
      "d:\\New folder\\lib\\site-packages\\sklearn\\metrics\\pairwise.py:54: DeprecationWarning: `np.float` is a deprecated alias for the builtin `float`. To silence this warning, use `float` by itself. Doing this will not modify any behavior and is safe. If you specifically wanted the numpy scalar type, use `np.float64` here.\n",
      "Deprecated in NumPy 1.20; for more details and guidance: https://numpy.org/devdocs/release/1.20.0-notes.html#deprecations\n",
      "  dtype = np.float\n",
      "d:\\New folder\\lib\\site-packages\\sklearn\\metrics\\pairwise.py:54: DeprecationWarning: `np.float` is a deprecated alias for the builtin `float`. To silence this warning, use `float` by itself. Doing this will not modify any behavior and is safe. If you specifically wanted the numpy scalar type, use `np.float64` here.\n",
      "Deprecated in NumPy 1.20; for more details and guidance: https://numpy.org/devdocs/release/1.20.0-notes.html#deprecations\n",
      "  dtype = np.float\n",
      "d:\\New folder\\lib\\site-packages\\sklearn\\cluster\\k_means_.py:444: DeprecationWarning: `np.int` is a deprecated alias for the builtin `int`. To silence this warning, use `int` by itself. Doing this will not modify any behavior and is safe. When replacing `np.int`, you may wish to use e.g. `np.int64` or `np.int32` to specify the precision. If you wish to review your current use, check the release note link for additional information.\n",
      "Deprecated in NumPy 1.20; for more details and guidance: https://numpy.org/devdocs/release/1.20.0-notes.html#deprecations\n",
      "  max_iter=max_iter, verbose=verbose)\n",
      "d:\\New folder\\lib\\site-packages\\sklearn\\metrics\\pairwise.py:54: DeprecationWarning: `np.float` is a deprecated alias for the builtin `float`. To silence this warning, use `float` by itself. Doing this will not modify any behavior and is safe. If you specifically wanted the numpy scalar type, use `np.float64` here.\n",
      "Deprecated in NumPy 1.20; for more details and guidance: https://numpy.org/devdocs/release/1.20.0-notes.html#deprecations\n",
      "  dtype = np.float\n",
      "d:\\New folder\\lib\\site-packages\\sklearn\\metrics\\pairwise.py:54: DeprecationWarning: `np.float` is a deprecated alias for the builtin `float`. To silence this warning, use `float` by itself. Doing this will not modify any behavior and is safe. If you specifically wanted the numpy scalar type, use `np.float64` here.\n",
      "Deprecated in NumPy 1.20; for more details and guidance: https://numpy.org/devdocs/release/1.20.0-notes.html#deprecations\n",
      "  dtype = np.float\n",
      "d:\\New folder\\lib\\site-packages\\sklearn\\metrics\\pairwise.py:54: DeprecationWarning: `np.float` is a deprecated alias for the builtin `float`. To silence this warning, use `float` by itself. Doing this will not modify any behavior and is safe. If you specifically wanted the numpy scalar type, use `np.float64` here.\n",
      "Deprecated in NumPy 1.20; for more details and guidance: https://numpy.org/devdocs/release/1.20.0-notes.html#deprecations\n",
      "  dtype = np.float\n"
     ]
    }
   ],
   "source": [
    "from sklearn.cluster import KMeans\n",
    "\n",
    "n_clusters = 5\n",
    "kmeans = KMeans(n_clusters=n_clusters)\n",
    "kmeans = kmeans.fit(X)"
   ]
  },
  {
   "cell_type": "markdown",
   "metadata": {},
   "source": [
    "### Xây dựng đoạn văn bản tóm tắt"
   ]
  },
  {
   "cell_type": "code",
   "execution_count": 11,
   "metadata": {},
   "outputs": [
    {
     "name": "stderr",
     "output_type": "stream",
     "text": [
      "d:\\New folder\\lib\\site-packages\\sklearn\\metrics\\pairwise.py:54: DeprecationWarning: `np.float` is a deprecated alias for the builtin `float`. To silence this warning, use `float` by itself. Doing this will not modify any behavior and is safe. If you specifically wanted the numpy scalar type, use `np.float64` here.\n",
      "Deprecated in NumPy 1.20; for more details and guidance: https://numpy.org/devdocs/release/1.20.0-notes.html#deprecations\n",
      "  dtype = np.float\n",
      "d:\\New folder\\lib\\site-packages\\sklearn\\metrics\\pairwise.py:54: DeprecationWarning: `np.float` is a deprecated alias for the builtin `float`. To silence this warning, use `float` by itself. Doing this will not modify any behavior and is safe. If you specifically wanted the numpy scalar type, use `np.float64` here.\n",
      "Deprecated in NumPy 1.20; for more details and guidance: https://numpy.org/devdocs/release/1.20.0-notes.html#deprecations\n",
      "  dtype = np.float\n"
     ]
    }
   ],
   "source": [
    "from sklearn.metrics import pairwise_distances_argmin_min\n",
    "\n",
    "avg = []\n",
    "for j in range(n_clusters):\n",
    "    idx = np.where(kmeans.labels_ == j)[0]\n",
    "    avg.append(np.mean(idx))\n",
    "closest, _ = pairwise_distances_argmin_min(kmeans.cluster_centers_, X)\n",
    "ordering = sorted(range(n_clusters), key=lambda k: avg[k])\n",
    "summary = ' '.join([sentences[closest[idx]] for idx in ordering])"
   ]
  },
  {
   "cell_type": "code",
   "execution_count": 12,
   "metadata": {},
   "outputs": [
    {
     "data": {
      "text/plain": [
       "'cuối năm 2002, sơn rời bình dương lên tphcm và xin vào làm thợ bảo trì máy tại công ty trường lợi. nguyễn văn sơn, 2 năm hơn 10 sáng kiến nguyễn văn sơn và máy cuốn bông được cải tiến từ máy rẽ gót ở công ty may trường lợi, kcn bình chiểu - tphcm các đồng nghiệp thường gọi nguyễn văn sơn là “cây sáng kiến”. trong 10 năm gắn bó với nghề thợ máy, dù làm ở những môi trường khác nhau, gặp không ít những trở ngại trong công việc nhưng sơn luôn được các đồng nghiệp đánh giá cao về tinh thần trách nhiệm. từ khi sơn vào làm tại công ty, anh đã có trên 10 sáng kiến giúp tăng năng suất lao động. ngay vào thời điểm khó khăn này, nguyễn văn sơn có sáng kiến tận dụng những máy rẽ gót để cải tiến thành máy cuốn bông, anh đề xuất ý kiến lên giám đốc và được chấp nhận.'"
      ]
     },
     "execution_count": 12,
     "metadata": {},
     "output_type": "execute_result"
    }
   ],
   "source": [
    "summary"
   ]
  },
  {
   "cell_type": "markdown",
   "metadata": {},
   "source": []
  },
  {
   "cell_type": "code",
   "execution_count": null,
   "metadata": {},
   "outputs": [],
   "source": []
  }
 ],
 "metadata": {
  "kernelspec": {
   "display_name": "Python 3",
   "language": "python",
   "name": "python3"
  },
  "language_info": {
   "codemirror_mode": {
    "name": "ipython",
    "version": 3
   },
   "file_extension": ".py",
   "mimetype": "text/x-python",
   "name": "python",
   "nbconvert_exporter": "python",
   "pygments_lexer": "ipython3",
   "version": "3.7.1"
  }
 },
 "nbformat": 4,
 "nbformat_minor": 2
}
